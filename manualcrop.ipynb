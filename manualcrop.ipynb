{
 "cells": [
  {
   "source": [
    "## Setup"
   ],
   "cell_type": "markdown",
   "metadata": {}
  },
  {
   "cell_type": "code",
   "execution_count": null,
   "metadata": {},
   "outputs": [],
   "source": [
    "!pip install poetry"
   ]
  },
  {
   "cell_type": "code",
   "execution_count": null,
   "metadata": {},
   "outputs": [],
   "source": [
    "!pip install https://github.com/swanandlab/SMorph/releases/download/v0.1.1-alpha/SMorph-0.1.1.tar.gz"
   ]
  },
  {
   "cell_type": "code",
   "execution_count": null,
   "metadata": {
    "tags": []
   },
   "outputs": [],
   "source": [
    "on_colab = 'google.colab' in str(get_ipython())\n",
    "\n",
    "import warnings\n",
    "warnings.filterwarnings('ignore')\n",
    "\n",
    "if not on_colab:\n",
    "    import napari\n",
    "import smorph.util.autocrop as ac"
   ]
  },
  {
   "cell_type": "code",
   "execution_count": null,
   "metadata": {},
   "outputs": [],
   "source": [
    "def view_3D(*args):  # Models a 3D image\n",
    "    n_images = len(args)\n",
    "    if not on_colab and n_images > 0:\n",
    "        with napari.gui_qt():\n",
    "            viewer = napari.view_image(**args[0], ndisplay=3)\n",
    "            for itr in range(1, n_images):\n",
    "                del args[itr]['colormap']\n",
    "                del args[itr]['gamma']\n",
    "                viewer.add_labels(**args[itr])"
   ]
  },
  {
   "source": [
    "## 1. Import Confocal Microscopic Image of the Tissue\n",
    "\n",
    "Set `CONFOCAL_TISSUE_IMAGE` to the path of the image file to be processed.\n",
    "- Followed by non-local means denoising using auto-calibrated parameters"
   ],
   "cell_type": "markdown",
   "metadata": {}
  },
  {
   "cell_type": "code",
   "execution_count": null,
   "metadata": {},
   "outputs": [],
   "source": [
    "CONFOCAL_TISSUE_IMAGE = 'Datasets/Garima Confocal/SAL,DMI, FLX ADN HALO_TREATMENT_21 DAYS/allImg/CA3/MSP2.1MA_1_SINGLE MARK_20X_SEC 1_RIGHT_CA3.czi'\n",
    "\n",
    "original = ac.import_confocal_image(CONFOCAL_TISSUE_IMAGE)\n",
    "\n",
    "denoiser = ac.calibrate_nlm_denoiser(original)\n",
    "denoise_parameters = denoiser.keywords['denoiser_kwargs']\n",
    "print(denoise_parameters)\n",
    "denoised = ac.denoise(original, denoise_parameters)\n",
    "ac.projectXYZ(denoised, .5, .5, 1)"
   ]
  },
  {
   "cell_type": "code",
   "execution_count": null,
   "metadata": {
    "tags": []
   },
   "outputs": [],
   "source": [
    "view_3D({'data': original, 'colormap': 'gray', 'name': 'original'},\n",
    "        {'data': denoised, 'colormap': 'inferno', 'name': 'denoised'})"
   ]
  },
  {
   "source": [
    "## 2. Select ROI using Polygonal Lasso Tool\n",
    "\n",
    "Set two variables:\n",
    "- `SELECT_ROI`: True, If you want to select ROI manually; else False\n",
    "- `NAME_ROI`: Name of the manually selected ROI"
   ],
   "cell_type": "markdown",
   "metadata": {}
  },
  {
   "cell_type": "code",
   "execution_count": null,
   "metadata": {},
   "outputs": [],
   "source": [
    "SELECT_ROI = True\n",
    "NAME_ROI = 'CA3'\n",
    "FILE_ROI = 'Datasets/Garima Confocal/SAL,DMI, FLX ADN HALO_TREATMENT_21 DAYS/allRoi/CA3/MSP2.1MA_1_SINGLE MARK_20X_SEC 1_RIGHT_CA3.roi'\n",
    "\n",
    "NAME_ROI = NAME_ROI if SELECT_ROI else ''\n",
    "IMG_NAME = CONFOCAL_TISSUE_IMAGE.split('/')[-1].split('.')[0]\n",
    "linebuilder = None if not SELECT_ROI else ac.select_ROI(denoised, IMG_NAME + '-' + NAME_ROI, FILE_ROI)"
   ]
  },
  {
   "cell_type": "code",
   "execution_count": null,
   "metadata": {},
   "outputs": [],
   "source": [
    "%matplotlib inline\n",
    "if SELECT_ROI:\n",
    "    original, denoised = ac.mask_ROI(original, denoised, linebuilder)\n",
    "    ac.projectXYZ(denoised, .5, .5, 1)"
   ]
  },
  {
   "source": [
    "## 3. Segmentation"
   ],
   "cell_type": "markdown",
   "metadata": {}
  },
  {
   "source": [
    "### 3.1 Threshold & color label cells\n",
    "\n",
    "Set two parameters:\n",
    "- `LOW_THRESH`: Pixel intensity value corresponding to faintest branch's edge\n",
    "- `HIGH_THRESH`: Pixel intensity value corresponding to faintest soma\n",
    "\n",
    "Understand their effect by configuring three parameters:\n",
    "- `LOW_DELTA`: Pixel intensity value corresponding to change in `LOW_THRESH`\n",
    "- `HIGH_DELTA`: Pixel intensity value corresponding to change in `HIGH_THRESH`\n",
    "- `N_STEPS`: Number of steps of delta in threshold to take in both directions"
   ],
   "cell_type": "markdown",
   "metadata": {}
  },
  {
   "cell_type": "code",
   "execution_count": null,
   "metadata": {},
   "outputs": [],
   "source": [
    "LOW_THRESH = .05\n",
    "HIGH_THRESH = .2\n",
    "\n",
    "LOW_DELTA = .005\n",
    "HIGH_DELTA = .00\n",
    "N_STEPS = 2\n",
    "\n",
    "results = ac.testThresholds(denoised, .5, .5, 1, 'gist_earth',\n",
    "                            LOW_THRESH, HIGH_THRESH, LOW_DELTA, HIGH_DELTA, N_STEPS)\n",
    "# view_3D({'data': denoised, 'colormap': 'inferno', 'name': 'denoised'}, *results)"
   ]
  },
  {
   "source": [
    "Thresholding results"
   ],
   "cell_type": "markdown",
   "metadata": {}
  },
  {
   "cell_type": "code",
   "execution_count": null,
   "metadata": {},
   "outputs": [],
   "source": [
    "thresholded = ac.threshold(denoised, LOW_THRESH, HIGH_THRESH)\n",
    "labels = ac.label_thresholded(thresholded)\n",
    "filtered_labels = ac.filter_labels(labels, thresholded, linebuilder, True)"
   ]
  },
  {
   "cell_type": "code",
   "execution_count": null,
   "metadata": {},
   "outputs": [],
   "source": [
    "prefiltering_volume = thresholded.sum()\n",
    "postfiltering_volume = (filtered_labels > 0).sum()\n",
    "\n",
    "f'Prefiltering Volume: {prefiltering_volume}; ' \\\n",
    "f'Postfiltering Volume: {postfiltering_volume}; ' \\\n",
    "f'%age loss in volume: {(prefiltering_volume - postfiltering_volume) / prefiltering_volume * 100} %'"
   ]
  },
  {
   "source": [
    "### 3.2 Filter segmented individual cells by removing ones in borders (touching the convex hull)"
   ],
   "cell_type": "markdown",
   "metadata": {}
  },
  {
   "cell_type": "code",
   "execution_count": null,
   "metadata": {},
   "outputs": [],
   "source": [
    "# get the centroids and label values from the label image\n",
    "regions = ac.arrange_regions(filtered_labels)\n",
    "residue_regions = ac.arrange_regions(labels - filtered_labels)\n",
    "centroid_coords = [r.centroid for r in regions]\n",
    "\n",
    "# store the labels for each blob in a properties dictionary\n",
    "pts_properties = {'obj': [i for i in range(len(regions))]}"
   ]
  },
  {
   "source": [
    "### 3.3 Visualize segmented cells to determine cutoff volumes\n",
    "\n",
    "#### 3.3.1 Check segmented cells on whole image"
   ],
   "cell_type": "markdown",
   "metadata": {}
  },
  {
   "cell_type": "code",
   "execution_count": null,
   "metadata": {},
   "outputs": [],
   "source": [
    "if not on_colab:\n",
    "    with napari.gui_qt():\n",
    "        viewer = napari.view_image(denoised, name='denoised')\n",
    "        viewer.add_labels(filtered_labels, name='filtered_labels')\n",
    "        viewer.add_points(centroid_coords, edge_color='transparent',\n",
    "                          face_color='transparent',\n",
    "                          properties=pts_properties, text='obj')"
   ]
  },
  {
   "source": [
    "#### 3.3.2 Check batches of objects"
   ],
   "cell_type": "markdown",
   "metadata": {}
  },
  {
   "cell_type": "code",
   "execution_count": null,
   "metadata": {},
   "outputs": [],
   "source": [
    "N_BATCHES = ac.paginate_objs(regions, pg_size=50)"
   ]
  },
  {
   "cell_type": "code",
   "execution_count": null,
   "metadata": {},
   "outputs": [],
   "source": [
    "# Set `BATCH_NO` to view detected objects in paginated 2D MIP views.\n",
    "BATCH_NO = 1\n",
    "ac.project_batch(BATCH_NO, N_BATCHES, regions, denoised)"
   ]
  },
  {
   "source": [
    "#### 3.3.2 Check individual objects\n",
    "Select individual objects using `OBJ_INDEX`."
   ],
   "cell_type": "markdown",
   "metadata": {}
  },
  {
   "cell_type": "code",
   "execution_count": null,
   "metadata": {
    "tags": []
   },
   "outputs": [],
   "source": [
    "OBJ_INDEX = 189\n",
    "\n",
    "extracted_cell = ac.extract_obj(regions[OBJ_INDEX], denoised)\n",
    "minz, miny, minx, maxz, maxy, maxx = regions[OBJ_INDEX].bbox\n",
    "ac.projectXYZ(extracted_cell, .5, .5, 1)\n",
    "minz, miny, minx, maxz, maxy, maxx"
   ]
  },
  {
   "cell_type": "code",
   "execution_count": null,
   "metadata": {
    "tags": []
   },
   "outputs": [],
   "source": [
    "view_3D({'data': denoised[minz:maxz, miny:maxy, minx:maxx], 'name': 'denoised'},\n",
    "        {'data': regions[OBJ_INDEX].image, 'colormap': 'yellow', 'name': 'thresholded'},\n",
    "        {'data': extracted_cell, 'colormap': 'inferno', 'name': 'extracted_cell'})"
   ]
  },
  {
   "source": [
    "## 4. Export autocropped 3D cells or 2D max intensity projections\n",
    "\n",
    "Set two parameters:\n",
    "- `LOW_VOLUME_CUTOFF`: to filter out noise/artifacts\n",
    "- `HIGH_VOLUME_CUTOFF`: to filter out cell clusters\n",
    "\n",
    "For choosing between 3D segmented cells or 2D max intensity projections:\n",
    "- Set `OUTPUT_OPTION` = '3d' for 3D cells, or\n",
    "- Set `OUTPUT_OPTION` = 'mip' for Max Intensity Projections."
   ],
   "cell_type": "markdown",
   "metadata": {}
  },
  {
   "cell_type": "code",
   "execution_count": null,
   "metadata": {
    "tags": []
   },
   "outputs": [],
   "source": [
    "LOW_VOLUME_CUTOFF = 143  # filter noise/artifacts\n",
    "HIGH_VOLUME_CUTOFF = 1245  # filter cell clusters\n",
    "\n",
    "OUTPUT_OPTION = 'both'  # '3d' for 3D cells, 'mip' for Max Intensity Projections\n",
    "SEGMENT_TYPE = 'segmented'\n",
    "\n",
    "ac.export_cells(CONFOCAL_TISSUE_IMAGE, LOW_VOLUME_CUTOFF,\n",
    "                HIGH_VOLUME_CUTOFF, OUTPUT_OPTION, denoised,\n",
    "                regions, residue_regions, SEGMENT_TYPE, NAME_ROI, linebuilder, FILE_ROI)"
   ]
  },
  {
   "source": [
    "## Select somas of individual cells in clumps"
   ],
   "cell_type": "markdown",
   "metadata": {}
  },
  {
   "cell_type": "code",
   "execution_count": null,
   "metadata": {},
   "outputs": [],
   "source": [
    "import numpy as np\n",
    "SOMA_SELECTED = 'Autocropped/MSP2.1MA_1_SINGLE MARK_20X_SEC 1_RIGHT_CA3-CA3/residue'\n",
    "reconstructed_labels = np.zeros(original.shape)\n",
    "reconstructed_labels, parent_path, roi_path = ac.postprocess_segment(SOMA_SELECTED, reconstructed_labels)"
   ]
  },
  {
   "cell_type": "code",
   "execution_count": null,
   "metadata": {},
   "outputs": [],
   "source": [
    "view_3D({'data': labels, 'colormap': 'gray', 'name': 'labels'},\n",
    "        {'data': reconstructed_labels, 'colormap': 'inferno', 'name': 'reconstructed_labels'})"
   ]
  },
  {
   "cell_type": "code",
   "execution_count": null,
   "metadata": {},
   "outputs": [],
   "source": [
    "reconstructed_volume = (reconstructed_labels > 0).sum()\n",
    "f'Postreconstructing Volume: {reconstructed_volume}; ' \\\n",
    "f'%age volume reconstructed: {(reconstructed_volume) / prefiltering_volume * 100} %'"
   ]
  },
  {
   "cell_type": "code",
   "execution_count": null,
   "metadata": {},
   "outputs": [],
   "source": [
    "linebuilder = ac._roi_extract._load_ROI(roi_path)"
   ]
  },
  {
   "cell_type": "code",
   "execution_count": null,
   "metadata": {},
   "outputs": [],
   "source": [
    "reconstructed_residue_labels = ac.filter_labels(reconstructed_labels, thresholded, linebuilder, True)"
   ]
  },
  {
   "cell_type": "code",
   "execution_count": null,
   "metadata": {},
   "outputs": [],
   "source": [
    "reconstructed_residue_volume = (reconstructed_residue_labels > 0).sum()\n",
    "f'Postreconstructing-residue Volume: {reconstructed_residue_volume}; ' \\\n",
    "f'%age volume: {(reconstructed_residue_volume) / prefiltering_volume * 100} %'"
   ]
  },
  {
   "cell_type": "code",
   "execution_count": null,
   "metadata": {},
   "outputs": [],
   "source": [
    "view_3D({'data': denoised, 'colormap': 'inferno', 'name': 'denoised'},\n",
    "        {'data': reconstructed_residue_labels, 'colormap': 'gray', 'gamma': .8, 'name': 'reconstructed_filtered_labels'},\n",
    "        {'data': filtered_labels, 'colormap': 'inferno', 'gamma': .8, 'name': 'filtered_labels'},\n",
    "        {'data': labels, 'colormap': 'gist_earth', 'gamma': .8, 'name': 'labels'})"
   ]
  },
  {
   "cell_type": "code",
   "execution_count": null,
   "metadata": {},
   "outputs": [],
   "source": [
    "reconstructed_filtered_regions = ac.arrange_regions(reconstructed_residue_labels)\n",
    "\n",
    "LOW_VOLUME_CUTOFF = 0  # filter noise/artifacts\n",
    "HIGH_VOLUME_CUTOFF = 1e9  # filter cell clusters\n",
    "\n",
    "OUTPUT_OPTION = 'both'  # '3d' for 3D cells, 'mip' for Max Intensity Projections\n",
    "SEGMENT_TYPE = 'segmented'\n",
    "\n",
    "ac.export_cells(parent_path, LOW_VOLUME_CUTOFF,\n",
    "                HIGH_VOLUME_CUTOFF, OUTPUT_OPTION, denoised,\n",
    "                reconstructed_filtered_regions, None, SEGMENT_TYPE, NAME_ROI, linebuilder)"
   ]
  }
 ],
 "metadata": {
  "kernelspec": {
   "name": "python378jvsc74a57bd0e740c8de0f34771eaa1e8f33643b3f217050c5d20ecd4964b6127114733aac96",
   "display_name": "Python 3.7.8 64-bit"
  },
  "language_info": {
   "codemirror_mode": {
    "name": "ipython",
    "version": 3
   },
   "file_extension": ".py",
   "mimetype": "text/x-python",
   "name": "python",
   "nbconvert_exporter": "python",
   "pygments_lexer": "ipython3",
   "version": "3.7.8"
  }
 },
 "nbformat": 4,
 "nbformat_minor": 2
}