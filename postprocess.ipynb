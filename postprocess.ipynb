{
 "cells": [
  {
   "source": [
    "## Setup"
   ],
   "cell_type": "markdown",
   "metadata": {}
  },
  {
   "cell_type": "code",
   "execution_count": null,
   "metadata": {},
   "outputs": [],
   "source": [
    "!pip install poetry"
   ]
  },
  {
   "cell_type": "code",
   "execution_count": null,
   "metadata": {},
   "outputs": [],
   "source": [
    "!pip install https://github.com/swanandlab/SMorph/releases/download/v0.1.1-alpha/SMorph-0.1.1.tar.gz"
   ]
  },
  {
   "cell_type": "code",
   "execution_count": 1,
   "metadata": {
    "tags": []
   },
   "outputs": [],
   "source": [
    "on_colab = 'google.colab' in str(get_ipython())\n",
    "\n",
    "import warnings\n",
    "warnings.filterwarnings('ignore')\n",
    "if not on_colab:\n",
    "    import napari\n",
    "import smorph.util.autocrop as ac"
   ]
  },
  {
   "cell_type": "code",
   "execution_count": 2,
   "metadata": {},
   "outputs": [],
   "source": [
    "def view_3D(*args):  # Models a 3D image\n",
    "    n_images = len(args)\n",
    "    if not on_colab and n_images > 0:\n",
    "        with napari.gui_qt():\n",
    "            viewer = napari.view_image(**args[0], ndisplay=3)\n",
    "            for itr in range(1, n_images):\n",
    "                del args[itr]['colormap']\n",
    "                del args[itr]['gamma']\n",
    "                viewer.add_labels(**args[itr])"
   ]
  },
  {
   "source": [
    "## Select somas of individual cells in clumps"
   ],
   "cell_type": "markdown",
   "metadata": {}
  },
  {
   "cell_type": "code",
   "execution_count": 3,
   "metadata": {},
   "outputs": [
    {
     "output_type": "stream",
     "name": "stdout",
     "text": [
      "[Errno 2] No such file or directory: 'Autocropped/CTRLvDMI-21-ML-Deconv/test/DMI_MSP2.1MA_3_LONG MARK_20X_SEC 1_LEFT HILUS_21 DAY-ML/residue/1213ab3986434302a9b03523781766db_mip.roi'\n",
      "[Errno 2] No such file or directory: 'Autocropped/CTRLvDMI-21-ML-Deconv/test/DMI_MSP2.1MA_3_LONG MARK_20X_SEC 1_LEFT HILUS_21 DAY-ML/residue/1d89eb85299846b28f4e58981478e633_mip.roi'\n",
      "[Errno 2] No such file or directory: 'Autocropped/CTRLvDMI-21-ML-Deconv/test/DMI_MSP2.1MA_3_LONG MARK_20X_SEC 1_LEFT HILUS_21 DAY-ML/residue/36323b4773d041c2b07108d117d920ba_mip.roi'\n",
      "[Errno 2] No such file or directory: 'Autocropped/CTRLvDMI-21-ML-Deconv/test/DMI_MSP2.1MA_3_LONG MARK_20X_SEC 1_LEFT HILUS_21 DAY-ML/residue/3f63117220074649bb23b38222b3ae49_mip.roi'\n",
      "[Errno 2] No such file or directory: 'Autocropped/CTRLvDMI-21-ML-Deconv/test/DMI_MSP2.1MA_3_LONG MARK_20X_SEC 1_LEFT HILUS_21 DAY-ML/residue/470698544c524d6098d43be00bb723b5_mip.roi'\n",
      "[Errno 2] No such file or directory: 'Autocropped/CTRLvDMI-21-ML-Deconv/test/DMI_MSP2.1MA_3_LONG MARK_20X_SEC 1_LEFT HILUS_21 DAY-ML/residue/477ecf748573481fa5d7ca064986c4d4_mip.roi'\n",
      "[Errno 2] No such file or directory: 'Autocropped/CTRLvDMI-21-ML-Deconv/test/DMI_MSP2.1MA_3_LONG MARK_20X_SEC 1_LEFT HILUS_21 DAY-ML/residue/58aa6470dd2d43b6a9892ade747ed986_mip.roi'\n",
      "[Errno 2] No such file or directory: 'Autocropped/CTRLvDMI-21-ML-Deconv/test/DMI_MSP2.1MA_3_LONG MARK_20X_SEC 1_LEFT HILUS_21 DAY-ML/residue/66221fb9cec84e40bb6c106060856286_mip.roi'\n",
      "[Errno 2] No such file or directory: 'Autocropped/CTRLvDMI-21-ML-Deconv/test/DMI_MSP2.1MA_3_LONG MARK_20X_SEC 1_LEFT HILUS_21 DAY-ML/residue/6ae34984b54144668fbdb4958f1df723_mip.roi'\n",
      "[Errno 2] No such file or directory: 'Autocropped/CTRLvDMI-21-ML-Deconv/test/DMI_MSP2.1MA_3_LONG MARK_20X_SEC 1_LEFT HILUS_21 DAY-ML/residue/6bbb7010754b436a909f0e44de83804d_mip.roi'\n",
      "[Errno 2] No such file or directory: 'Autocropped/CTRLvDMI-21-ML-Deconv/test/DMI_MSP2.1MA_3_LONG MARK_20X_SEC 1_LEFT HILUS_21 DAY-ML/residue/7011d560195b415e9d6252305ac9e2b7_mip.roi'\n",
      "[Errno 2] No such file or directory: 'Autocropped/CTRLvDMI-21-ML-Deconv/test/DMI_MSP2.1MA_3_LONG MARK_20X_SEC 1_LEFT HILUS_21 DAY-ML/residue/7365f64d3a3046f4a8fe84d53ed0e46e_mip.roi'\n",
      "[Errno 2] No such file or directory: 'Autocropped/CTRLvDMI-21-ML-Deconv/test/DMI_MSP2.1MA_3_LONG MARK_20X_SEC 1_LEFT HILUS_21 DAY-ML/residue/7394883f5da1469baa2127426ada5c57_mip.roi'\n",
      "[Errno 2] No such file or directory: 'Autocropped/CTRLvDMI-21-ML-Deconv/test/DMI_MSP2.1MA_3_LONG MARK_20X_SEC 1_LEFT HILUS_21 DAY-ML/residue/79643097fd32418c96dbeaf0946db4af_mip.roi'\n",
      "[Errno 2] No such file or directory: 'Autocropped/CTRLvDMI-21-ML-Deconv/test/DMI_MSP2.1MA_3_LONG MARK_20X_SEC 1_LEFT HILUS_21 DAY-ML/residue/8cd8aca11e1a42d6afa2a38c5dc3789b_mip.roi'\n",
      "[Errno 2] No such file or directory: 'Autocropped/CTRLvDMI-21-ML-Deconv/test/DMI_MSP2.1MA_3_LONG MARK_20X_SEC 1_LEFT HILUS_21 DAY-ML/residue/8ea3ae3720fa479dae109adf3eb39864_mip.roi'\n",
      "[Errno 2] No such file or directory: 'Autocropped/CTRLvDMI-21-ML-Deconv/test/DMI_MSP2.1MA_3_LONG MARK_20X_SEC 1_LEFT HILUS_21 DAY-ML/residue/95ce3f54ec6745d4b2a916f5eab6dd84_mip.roi'\n",
      "[Errno 2] No such file or directory: 'Autocropped/CTRLvDMI-21-ML-Deconv/test/DMI_MSP2.1MA_3_LONG MARK_20X_SEC 1_LEFT HILUS_21 DAY-ML/residue/97967351cd8c432f8ece47e97d008809_mip.roi'\n",
      "[Errno 2] No such file or directory: 'Autocropped/CTRLvDMI-21-ML-Deconv/test/DMI_MSP2.1MA_3_LONG MARK_20X_SEC 1_LEFT HILUS_21 DAY-ML/residue/a4d92928c5f6487c9fcfc1da3457dfce_mip.roi'\n",
      "[Errno 2] No such file or directory: 'Autocropped/CTRLvDMI-21-ML-Deconv/test/DMI_MSP2.1MA_3_LONG MARK_20X_SEC 1_LEFT HILUS_21 DAY-ML/residue/c4b650517b2a4cf5b69d38a2b2debf24_mip.roi'\n",
      "[Errno 2] No such file or directory: 'Autocropped/CTRLvDMI-21-ML-Deconv/test/DMI_MSP2.1MA_3_LONG MARK_20X_SEC 1_LEFT HILUS_21 DAY-ML/residue/c72096ab6a8e4226b96346659ed4b1a8_mip.roi'\n",
      "[Errno 2] No such file or directory: 'Autocropped/CTRLvDMI-21-ML-Deconv/test/DMI_MSP2.1MA_3_LONG MARK_20X_SEC 1_LEFT HILUS_21 DAY-ML/residue/dd1fa4c793cc4005ae74bc3dc20a261f_mip.roi'\n",
      "[Errno 2] No such file or directory: 'Autocropped/CTRLvDMI-21-ML-Deconv/test/DMI_MSP2.1MA_3_LONG MARK_20X_SEC 1_LEFT HILUS_21 DAY-ML/residue/e37f09821e1c417e89c066f24e87f025_mip.roi'\n",
      "[Errno 2] No such file or directory: 'Autocropped/CTRLvDMI-21-ML-Deconv/test/DMI_MSP2.1MA_3_LONG MARK_20X_SEC 1_LEFT HILUS_21 DAY-ML/residue/e9363cec87164466abe162ba9e8d4ada_mip.roi'\n",
      "[Errno 2] No such file or directory: 'Autocropped/CTRLvDMI-21-ML-Deconv/test/DMI_MSP2.1MA_3_LONG MARK_20X_SEC 1_LEFT HILUS_21 DAY-ML/residue/f0f0917eca734b3283ce95a3537574e2_mip.roi'\n",
      "[Errno 2] No such file or directory: 'Autocropped/CTRLvDMI-21-ML-Deconv/test/DMI_MSP2.1MA_3_LONG MARK_20X_SEC 1_LEFT HILUS_21 DAY-ML/residue/fb3826a4192049a0a11f64484af09f50_mip.roi'\n"
     ]
    }
   ],
   "source": [
    "import numpy as np\n",
    "SOMA_SELECTED = 'Autocropped/CTRLvDMI-21-ML-Deconv/test/DMI_MSP2.1MA_3_LONG MARK_20X_SEC 1_LEFT HILUS_21 DAY-ML/residue'\n",
    "reconstructed_labels = None  # np.zeros(original.shape)\n",
    "reconstructed_labels, parent_path, roi_path = ac.postprocess_segment(SOMA_SELECTED, reconstructed_labels)"
   ]
  },
  {
   "cell_type": "code",
   "execution_count": 4,
   "metadata": {},
   "outputs": [],
   "source": [
    "view_3D(#{'data': labels, 'colormap': 'gray', 'name': 'labels'},\n",
    "        {'data': reconstructed_labels, 'colormap': 'inferno', 'name': 'reconstructed_labels'})"
   ]
  },
  {
   "cell_type": "code",
   "execution_count": 7,
   "metadata": {},
   "outputs": [
    {
     "output_type": "execute_result",
     "data": {
      "text/plain": [
       "'Postreconstructing Volume: 139300'"
      ]
     },
     "metadata": {},
     "execution_count": 7
    }
   ],
   "source": [
    "reconstructed_volume = (reconstructed_labels > 0).sum()\n",
    "f'Postreconstructing Volume: {reconstructed_volume}'"
   ]
  },
  {
   "cell_type": "code",
   "execution_count": 8,
   "metadata": {},
   "outputs": [],
   "source": [
    "linebuilder = ac._roi_extract._load_ROI(roi_path)"
   ]
  },
  {
   "cell_type": "code",
   "execution_count": 13,
   "metadata": {},
   "outputs": [],
   "source": [
    "import numpy as np\n",
    "from skimage.morphology import binary_erosion\n",
    "from skimage.segmentation import clear_border\n",
    "from skimage.draw import polygon2mask\n",
    "\n",
    "conservative = True\n",
    "reconstructed_residue_labels = clear_border(reconstructed_labels, mask=None if conservative\n",
    "                        else ac.core._compute_convex_hull(thresholded))\n",
    "\n",
    "if linebuilder is not None:\n",
    "    X, Y = ac.core._unwrap_polygon(linebuilder)\n",
    "    min_x, max_x = int(min(X)), int(max(X) + 1)\n",
    "    min_y, max_y = int(min(Y)), int(max(Y) + 1)\n",
    "    shape = reconstructed_labels.shape\n",
    "    roi_mask = np.empty(shape)\n",
    "    roi_mask[0] = polygon2mask(shape[1:][::-1], list(zip(X, Y))).T\n",
    "\n",
    "    for i in range(1, shape[0]):\n",
    "        roi_mask[i] = roi_mask[0]\n",
    "    roi_mask = binary_erosion(roi_mask)\n",
    "    reconstructed_residue_labels = clear_border(reconstructed_residue_labels, mask=roi_mask)\n",
    "\n",
    "reconstructed_filtered_regions = ac.arrange_regions(reconstructed_residue_labels)"
   ]
  },
  {
   "cell_type": "code",
   "execution_count": 14,
   "metadata": {},
   "outputs": [],
   "source": [
    "view_3D({'data': reconstructed_residue_labels, 'colormap': 'gray', 'name': 'reconstructed_filtered_regions'},\n",
    "        {'data': reconstructed_labels, 'gamma': .8, 'colormap': 'inferno', 'name': 'reconstructed_labels'},\n",
    "        {'data': roi_mask, 'gamma': .8, 'colormap': 'inferno', 'name': 'roi_mask'})"
   ]
  },
  {
   "cell_type": "code",
   "execution_count": 20,
   "metadata": {},
   "outputs": [],
   "source": [
    "reconstructed_residue_labels = ac.filter_labels(reconstructed_labels, None, linebuilder, True)"
   ]
  },
  {
   "cell_type": "code",
   "execution_count": 21,
   "metadata": {},
   "outputs": [
    {
     "output_type": "execute_result",
     "data": {
      "text/plain": [
       "'Postreconstructing-residue Volume: 48795; %age volume: 21.12913911586277 %'"
      ]
     },
     "metadata": {},
     "execution_count": 21
    }
   ],
   "source": [
    "reconstructed_residue_volume = (reconstructed_residue_labels > 0).sum()\n",
    "f'Postreconstructing-residue Volume: {reconstructed_residue_volume}; ' \\\n",
    "f'%age volume: {(reconstructed_residue_volume) / prefiltering_volume * 100} %'"
   ]
  },
  {
   "cell_type": "code",
   "execution_count": 24,
   "metadata": {},
   "outputs": [],
   "source": [
    "view_3D({'data': denoised, 'colormap': 'inferno', 'name': 'denoised'},\n",
    "        {'data': reconstructed_residue_labels, 'colormap': 'gray', 'gamma': .8, 'name': 'reconstructed_filtered_labels'},\n",
    "        {'data': filtered_labels, 'colormap': 'inferno', 'gamma': .8, 'name': 'filtered_labels'},\n",
    "        {'data': labels, 'colormap': 'gist_earth', 'gamma': .8, 'name': 'labels'})"
   ]
  },
  {
   "cell_type": "code",
   "execution_count": 26,
   "metadata": {},
   "outputs": [],
   "source": [
    "reconstructed_filtered_regions = ac.arrange_regions(reconstructed_residue_labels)\n",
    "\n",
    "LOW_VOLUME_CUTOFF = 0  # filter noise/artifacts\n",
    "HIGH_VOLUME_CUTOFF = 1e9  # filter cell clusters\n",
    "\n",
    "OUTPUT_OPTION = 'both'  # '3d' for 3D cells, 'mip' for Max Intensity Projections\n",
    "SEGMENT_TYPE = 'segmented'\n",
    "\n",
    "ac.export_cells(parent_path, LOW_VOLUME_CUTOFF,\n",
    "                HIGH_VOLUME_CUTOFF, OUTPUT_OPTION, denoised,\n",
    "                reconstructed_filtered_regions, None, SEGMENT_TYPE, NAME_ROI, linebuilder, roi_path=roi_path)"
   ]
  }
 ],
 "metadata": {
  "kernelspec": {
   "name": "python378jvsc74a57bd0e740c8de0f34771eaa1e8f33643b3f217050c5d20ecd4964b6127114733aac96",
   "display_name": "Python 3.7.8 64-bit"
  },
  "language_info": {
   "codemirror_mode": {
    "name": "ipython",
    "version": 3
   },
   "file_extension": ".py",
   "mimetype": "text/x-python",
   "name": "python",
   "nbconvert_exporter": "python",
   "pygments_lexer": "ipython3",
   "version": "3.7.8"
  }
 },
 "nbformat": 4,
 "nbformat_minor": 2
}