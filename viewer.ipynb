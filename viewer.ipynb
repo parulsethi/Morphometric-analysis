{
 "metadata": {
  "language_info": {
   "codemirror_mode": {
    "name": "ipython",
    "version": 3
   },
   "file_extension": ".py",
   "mimetype": "text/x-python",
   "name": "python",
   "nbconvert_exporter": "python",
   "pygments_lexer": "ipython3",
   "version": "3.8.2-final"
  },
  "orig_nbformat": 2,
  "kernelspec": {
   "name": "python3",
   "display_name": "Python 3.8.2 64-bit",
   "metadata": {
    "interpreter": {
     "hash": "0e394502749a0c9bdb4178e2492fc0d192d5db9edd19a43c87ae9487ef3b9d22"
    }
   }
  }
 },
 "nbformat": 4,
 "nbformat_minor": 2,
 "cells": [
  {
   "cell_type": "code",
   "execution_count": 1,
   "metadata": {},
   "outputs": [],
   "source": [
    "from smorph.util import viewer as vw"
   ]
  },
  {
   "source": [
    "## Identify cell in tissue image"
   ],
   "cell_type": "markdown",
   "metadata": {}
  },
  {
   "cell_type": "code",
   "execution_count": 2,
   "metadata": {},
   "outputs": [],
   "source": [
    "vw.identify_cell_in_tissue('Autocropped/C1-M1_LEFT_CA3_MIP/segmented/4fa4de5b-cc91-4f75-b3f3-c1c3c181d859.tif')"
   ]
  },
  {
   "source": [
    "## Labeling group analysis results"
   ],
   "cell_type": "markdown",
   "metadata": {}
  },
  {
   "cell_type": "code",
   "execution_count": 3,
   "metadata": {},
   "outputs": [],
   "source": [
    "# input the path to individual group folders\n",
    "groups_folders = ['Autocropped/C1-M1_LEFT_CA3_MIP/segmented']\n",
    "\n",
    "pts = vw.label_clusters_spatially(groups_folders)"
   ]
  }
 ]
}